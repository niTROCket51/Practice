{
 "cells": [
  {
   "cell_type": "code",
   "execution_count": 38,
   "metadata": {},
   "outputs": [
    {
     "name": "stdout",
     "output_type": "stream",
     "text": [
      "LZTY:fp0i7614ix4792427p5856vy6fvp6d93\n"
     ]
    }
   ],
   "source": [
    "# This program reverses the effect of SoRandom.py (can be found on this repository) on a string.\n",
    "# Please note that you must run this program on Python 2.7 to get the correct flag. (Compatibility issues)\n",
    "import random\n",
    "\n",
    "encflag = \"BNZQ:jn0y1313td7975784y0361tp3xou1g44\"\n",
    "flag = \"\"\n",
    "\n",
    "random.seed(\"random\")\n",
    "\n",
    "for i in encflag:\n",
    "    \n",
    "    if i.islower():\n",
    "        currentRandom = random.randrange(0, 26)\n",
    "        for x in range(ord('a'), ord('z')+1):\n",
    "            if(ord(i)-ord('a') == (x-ord('a') + currentRandom)%26):\n",
    "                flag = flag + chr(x)\n",
    "                break\n",
    "    \n",
    "    elif i.isupper():\n",
    "        currentRandom = random.randrange(0, 26)\n",
    "        for x in range(ord('A'), ord('Z')+1):\n",
    "            if(ord(i)-ord('A') == (x-ord('A') + currentRandom)%26):\n",
    "                flag = flag + chr(x)\n",
    "                break\n",
    "                \n",
    "    elif i.isdigit():\n",
    "        currentRandom = random.randrange(0, 10)\n",
    "        for x in range(ord('0'), ord('9')+1):\n",
    "            if(ord(i)-ord('0') == (x-ord('0') + currentRandom)%10):\n",
    "                flag = flag + chr(x)\n",
    "                break\n",
    "                \n",
    "    else:\n",
    "        flag = flag + i\n",
    "    \n",
    "print(flag)"
   ]
  },
  {
   "cell_type": "code",
   "execution_count": null,
   "metadata": {},
   "outputs": [],
   "source": []
  }
 ],
 "metadata": {
  "kernelspec": {
   "display_name": "Python 3",
   "language": "python",
   "name": "python3"
  },
  "language_info": {
   "codemirror_mode": {
    "name": "ipython",
    "version": 3
   },
   "file_extension": ".py",
   "mimetype": "text/x-python",
   "name": "python",
   "nbconvert_exporter": "python",
   "pygments_lexer": "ipython3",
   "version": "3.6.4"
  }
 },
 "nbformat": 4,
 "nbformat_minor": 2
}
