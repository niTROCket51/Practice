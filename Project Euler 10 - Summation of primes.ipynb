{
 "cells": [
  {
   "cell_type": "markdown",
   "metadata": {},
   "source": [
    "<h2>Project Euler Problem 10 - Summation of primes</h2>"
   ]
  },
  {
   "cell_type": "code",
   "execution_count": 2,
   "metadata": {},
   "outputs": [
    {
     "name": "stdout",
     "output_type": "stream",
     "text": [
      "142913828922\n"
     ]
    }
   ],
   "source": [
    "#pretty straightforward\n",
    "from math import sqrt\n",
    "\n",
    "def is_prime(number):\n",
    "    if number == 2:\n",
    "        return True\n",
    "    elif (number%2 == 0) and (number>2):\n",
    "        return False\n",
    "    else:\n",
    "        for i in range (3, int(sqrt(number))+1, 2):\n",
    "            if (number%i == 0):\n",
    "                return False\n",
    "                break\n",
    "        return True\n",
    "    \n",
    "sum = 0\n",
    "for n in range(2, 2000000):\n",
    "    if (is_prime(n) == True):\n",
    "        sum = sum + n\n",
    "print(sum)"
   ]
  }
 ],
 "metadata": {
  "kernelspec": {
   "display_name": "Python 3",
   "language": "python",
   "name": "python3"
  },
  "language_info": {
   "codemirror_mode": {
    "name": "ipython",
    "version": 3
   },
   "file_extension": ".py",
   "mimetype": "text/x-python",
   "name": "python",
   "nbconvert_exporter": "python",
   "pygments_lexer": "ipython3",
   "version": "3.6.4"
  }
 },
 "nbformat": 4,
 "nbformat_minor": 2
}
