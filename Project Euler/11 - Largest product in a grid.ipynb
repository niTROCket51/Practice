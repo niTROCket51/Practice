{
 "cells": [
  {
   "cell_type": "markdown",
   "metadata": {},
   "source": [
    "<h2>Problem 11</h2>"
   ]
  },
  {
   "cell_type": "code",
   "execution_count": 1,
   "metadata": {},
   "outputs": [],
   "source": [
    "with open(\"files/11.txt\") as f:\n",
    "    flat_matrix = f.read()\n",
    "    \n",
    "flat_matrix_wospace = flat_matrix.replace(\"\\n\", \"\").replace(\" \",\"\")\n",
    "\n",
    "matrix = []\n",
    "               \n",
    "for i in range(0, 20):\n",
    "    matrix.append([])\n",
    "    for j in range(20*i, 20*(i+2), 2):\n",
    "        matrix[i].append(int(flat_matrix_wospace[20*i+j:20*i+j+2]))          \n",
    "\n",
    "product_max = 0        \n",
    "\n",
    "for i in range(0, 20):\n",
    "    for j in range(0, 17):\n",
    "        if ((matrix[i][j] * matrix[i][j+1] * matrix[i][j+2] * matrix[i][j+3]) > product_max):\n",
    "            product_max = (matrix[i][j] * matrix[i][j+1] * matrix[i][j+2] * matrix[i][j+3])\n",
    "\n",
    "for j in range(0, 20):\n",
    "    for i in range(0, 17):\n",
    "        if ((matrix[i][j] * matrix[i+1][j] * matrix[i+2][j] * matrix[i+3][j]) > product_max):\n",
    "            product_max = (matrix[i][j] * matrix[i+1][j] * matrix[i+2][j] * matrix[i+3][j])\n",
    "\n",
    "for i in range(0, 17):\n",
    "    for j in range(0, 17):\n",
    "        if ((matrix[i][j] * matrix[i+1][j+1] * matrix[i+2][j+2] * matrix[i+3][j+3]) > product_max):\n",
    "            product_max = (matrix[i][j] * matrix[i+1][j+1] * matrix[i+2][j+2] * matrix[i+3][j+3])    \n",
    "\n",
    "for i in range(3, 20):\n",
    "    for j in range(0, 17):\n",
    "        if ((matrix[i][j] * matrix[i-1][j+1] * matrix[i-2][j+2] * matrix[i-3][j+3]) > product_max):\n",
    "            product_max = (matrix[i][j] * matrix[i-1][j+1] * matrix[i-2][j+2] * matrix[i-3][j+3])"
   ]
  },
  {
   "cell_type": "code",
   "execution_count": 2,
   "metadata": {},
   "outputs": [
    {
     "data": {
      "text/plain": [
       "70600674"
      ]
     },
     "execution_count": 2,
     "metadata": {},
     "output_type": "execute_result"
    }
   ],
   "source": [
    "product_max"
   ]
  },
  {
   "cell_type": "code",
   "execution_count": null,
   "metadata": {},
   "outputs": [],
   "source": []
  }
 ],
 "metadata": {
  "kernelspec": {
   "display_name": "Python 3",
   "language": "python",
   "name": "python3"
  },
  "language_info": {
   "codemirror_mode": {
    "name": "ipython",
    "version": 3
   },
   "file_extension": ".py",
   "mimetype": "text/x-python",
   "name": "python",
   "nbconvert_exporter": "python",
   "pygments_lexer": "ipython3",
   "version": "3.6.4"
  }
 },
 "nbformat": 4,
 "nbformat_minor": 2
}
