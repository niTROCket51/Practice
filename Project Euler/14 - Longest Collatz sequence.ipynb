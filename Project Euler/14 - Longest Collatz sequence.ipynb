{
 "cells": [
  {
   "cell_type": "markdown",
   "metadata": {},
   "source": [
    "## Problem 14"
   ]
  },
  {
   "cell_type": "code",
   "execution_count": 1,
   "metadata": {},
   "outputs": [],
   "source": [
    "# Slow for large value of num. //Optimization needed\n",
    "def collatz_counter(num):\n",
    "    if (num == 1):\n",
    "        return 1\n",
    "    elif (num%2 == 0):\n",
    "        return collatz_counter(num//2) + 1\n",
    "    else:\n",
    "        return collatz_counter(3*num + 1) + 1"
   ]
  },
  {
   "cell_type": "markdown",
   "metadata": {},
   "source": [
    "### Optimizing the function:"
   ]
  },
  {
   "cell_type": "markdown",
   "metadata": {},
   "source": [
    "**Memoisation** is an optimization technique used primarily to speed up computer programs by storing the results of expensive function calls and returning the cached result when the same inputs occur again.\n",
    "It can be set up with a dictionary in this case:"
   ]
  },
  {
   "cell_type": "code",
   "execution_count": 2,
   "metadata": {},
   "outputs": [],
   "source": [
    "memo = {}\n",
    "memo[1] = 1\n",
    "def collatz_counter(num):\n",
    "    if not num in memo:\n",
    "        # check if already computed\n",
    "        if (num%2 == 0):\n",
    "            memo[num] = collatz_counter(num//2) + 1\n",
    "        else:\n",
    "            memo[num] = collatz_counter(3*num+1) + 1\n",
    "    return memo[num]"
   ]
  },
  {
   "cell_type": "code",
   "execution_count": 3,
   "metadata": {
    "scrolled": false
   },
   "outputs": [
    {
     "name": "stdout",
     "output_type": "stream",
     "text": [
      "837799\n"
     ]
    }
   ],
   "source": [
    "longest_chain = 1\n",
    "for i in range(1, 1000000):\n",
    "    if (collatz_counter(i) > longest_chain):\n",
    "        longest_chain = collatz_counter(i)\n",
    "        starting_number = i\n",
    "        \n",
    "print(starting_number)"
   ]
  },
  {
   "cell_type": "code",
   "execution_count": null,
   "metadata": {},
   "outputs": [],
   "source": []
  }
 ],
 "metadata": {
  "kernelspec": {
   "display_name": "Python 3",
   "language": "python",
   "name": "python3"
  },
  "language_info": {
   "codemirror_mode": {
    "name": "ipython",
    "version": 3
   },
   "file_extension": ".py",
   "mimetype": "text/x-python",
   "name": "python",
   "nbconvert_exporter": "python",
   "pygments_lexer": "ipython3",
   "version": "3.6.4"
  }
 },
 "nbformat": 4,
 "nbformat_minor": 2
}
