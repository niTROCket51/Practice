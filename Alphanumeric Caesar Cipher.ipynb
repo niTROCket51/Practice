{
 "cells": [
  {
   "cell_type": "markdown",
   "metadata": {},
   "source": [
    "<h2>Alphanumeric Caesar Cipher</h2>"
   ]
  },
  {
   "cell_type": "markdown",
   "metadata": {},
   "source": [
    "<h3>PCTF 2018 - Straight From The Emperor</h3>"
   ]
  },
  {
   "cell_type": "code",
   "execution_count": 10,
   "metadata": {},
   "outputs": [
    {
     "name": "stdout",
     "output_type": "stream",
     "text": [
      "Enter the encrypted string : ny_nx_tsq3_zumnqq_kwtr_mjwj_6acdcbc6d5\n",
      "mx_mw_srp2_ytlmpp_jvsq_livi_59bcbab5c4\n",
      "lw_lv_rqo1_xskloo_iurp_khuh_48aba9a4b3\n",
      "kv_ku_qpn0_wrjknn_htqo_jgtg_379a9893a2\n",
      "ju_jt_pomz_vqijmm_gspn_ifsf_2689878291\n",
      "it_is_only_uphill_from_here_1578767180\n",
      "hs_hr_nmkx_toghkk_eqnl_gdqd_046765607z\n",
      "gr_gq_mljw_snfgjj_dpmk_fcpc_z356545z6y\n",
      "fq_fp_lkiv_rmefii_colj_ebob_y245434y5x\n",
      "ep_eo_kjhu_qldehh_bnki_dana_x134323x4w\n",
      "do_dn_jigt_pkcdgg_amjh_c9m9_w023212w3v\n",
      "cn_cm_ihfs_ojbcff_9lig_b8l8_vz12101v2u\n",
      "bm_bl_hger_niabee_8khf_a7k7_uy010z0u1t\n",
      "al_ak_gfdq_mh9add_7jge_96j6_txz0zyzt0s\n",
      "9k_9j_fecp_lg89cc_6ifd_85i5_swyzyxyszr\n",
      "8j_8i_edbo_kf78bb_5hec_74h4_rvxyxwxryq\n",
      "7i_7h_dcan_je67aa_4gdb_63g3_quwxwvwqxp\n",
      "6h_6g_cb9m_id5699_3fca_52f2_ptvwvuvpwo\n",
      "5g_5f_ba8l_hc4588_2eb9_41e1_osuvutuovn\n",
      "4f_4e_a97k_gb3477_1da8_30d0_nrtutstnum\n",
      "3e_3d_986j_fa2366_0c97_2zcz_mqstsrsmtl\n",
      "2d_2c_875i_e91255_zb86_1yby_lprsrqrlsk\n",
      "1c_1b_764h_d80144_ya75_0xax_koqrqpqkrj\n",
      "0b_0a_653g_c7z033_x964_zw9w_jnpqpopjqi\n",
      "za_z9_542f_b6yz22_w853_yv8v_imoponoiph\n",
      "y9_y8_431e_a5xy11_v742_xu7u_hlnonmnhog\n",
      "x8_x7_320d_94wx00_u631_wt6t_gkmnmlmgnf\n",
      "w7_w6_21zc_83vwzz_t520_vs5s_fjlmlklfme\n",
      "v6_v5_10yb_72uvyy_s41z_ur4r_eiklkjkeld\n",
      "u5_u4_0zxa_61tuxx_r30y_tq3q_dhjkjijdkc\n",
      "t4_t3_zyw9_50stww_q2zx_sp2p_cgijihicjb\n",
      "s3_s2_yxv8_4zrsvv_p1yw_ro1o_bfhihghbia\n",
      "r2_r1_xwu7_3yqruu_o0xv_qn0n_aeghgfgah9\n",
      "q1_q0_wvt6_2xpqtt_nzwu_pmzm_9dfgfef9g8\n",
      "p0_pz_vus5_1wopss_myvt_olyl_8cefede8f7\n",
      "oz_oy_utr4_0vnorr_lxus_nkxk_7bdedcd7e6\n"
     ]
    }
   ],
   "source": [
    "# I made it to solve second problem of round 1 of PACTF 2018\n",
    "# The idea is to get decrypted text for all possible shifts\n",
    "# All shifts take place along the string 'abcdefghijklmnopqrstuvwxyz0123456789'\n",
    "\n",
    "ciphertext = input(\"Enter the encrypted string : \")\n",
    "\n",
    "# Since all plaintexts show up in one paragraph I used \"@\" as the symbol for line break\n",
    "ciphertext2 = ciphertext + \"@\"\n",
    "\n",
    "# creating a dictionary to designate numerical value to every character\n",
    "import string\n",
    "\n",
    "keydict = []\n",
    "\n",
    "for i in (string.ascii_lowercase+string.digits):\n",
    "    keydict.append(i)\n",
    "\n",
    "# I brute force my way for all possible shifts :P\n",
    "for shift in range(1, 36):\n",
    "    for i in list(ciphertext2):\n",
    "        if (i == \"_\"):\n",
    "            print(\"_\", end = \"\")\n",
    "        elif (i == \"@\"):\n",
    "            print(\"\")\n",
    "        else:\n",
    "            print(keydict[(keydict.index(i)-shift)%36], end = \"\")"
   ]
  }
 ],
 "metadata": {
  "kernelspec": {
   "display_name": "Python 3",
   "language": "python",
   "name": "python3"
  },
  "language_info": {
   "codemirror_mode": {
    "name": "ipython",
    "version": 3
   },
   "file_extension": ".py",
   "mimetype": "text/x-python",
   "name": "python",
   "nbconvert_exporter": "python",
   "pygments_lexer": "ipython3",
   "version": "3.6.4"
  }
 },
 "nbformat": 4,
 "nbformat_minor": 2
}
